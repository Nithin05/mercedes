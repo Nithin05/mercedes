{
 "cells": [
  {
   "cell_type": "code",
   "execution_count": 1,
   "metadata": {},
   "outputs": [],
   "source": [
    "import numpy as np\n",
    "import pandas as pd\n",
    "import matplotlib.pyplot as plt\n",
    "import matplotlib\n",
    "\n",
    "mercedes_df = pd.read_csv('Mercedes.csv')\n",
    "\n",
    "# remove output column - y\n",
    "y = mercedes_df['y']\n",
    "\n",
    "# drop the output column from the dataframe\n",
    "mercedes_df.drop(columns='y',inplace= True)\n"
   ]
  },
  {
   "cell_type": "code",
   "execution_count": 3,
   "metadata": {},
   "outputs": [
    {
     "name": "stdout",
     "output_type": "stream",
     "text": [
      "ID      0\n",
      "X0      0\n",
      "X1      0\n",
      "X2      0\n",
      "X3      0\n",
      "       ..\n",
      "X380    0\n",
      "X382    0\n",
      "X383    0\n",
      "X384    0\n",
      "X385    0\n",
      "Length: 377, dtype: int64\n"
     ]
    }
   ],
   "source": [
    "mercedes_df.shape\n",
    "mercedes_df.describe()\n",
    "# count the number of NaN values in each column\n",
    "print(mercedes_df.isnull().sum())\n",
    "# outcome: No missing values."
   ]
  },
  {
   "cell_type": "code",
   "execution_count": 4,
   "metadata": {},
   "outputs": [
    {
     "data": {
      "text/plain": [
       "1"
      ]
     },
     "execution_count": 4,
     "metadata": {},
     "output_type": "execute_result"
    }
   ],
   "source": [
    "mercedes_df['X11'].nunique()"
   ]
  },
  {
   "cell_type": "code",
   "execution_count": 5,
   "metadata": {},
   "outputs": [
    {
     "name": "stdout",
     "output_type": "stream",
     "text": [
      "Unique == Shape[0] ID\n",
      "Unique == 1:  X11\n",
      "Unique == 1:  X93\n",
      "Unique == 1:  X107\n",
      "Unique == 1:  X233\n",
      "Unique == 1:  X235\n",
      "Unique == 1:  X268\n",
      "Unique == 1:  X289\n",
      "Unique == 1:  X290\n",
      "Unique == 1:  X293\n",
      "Unique == 1:  X297\n",
      "Unique == 1:  X330\n",
      "Unique == 1:  X347\n"
     ]
    }
   ],
   "source": [
    "# check for unique values.\n",
    "cols_to_drop = [];\n",
    "for col in mercedes_df.columns:\n",
    "    if(len(mercedes_df[col].unique()) == 1):\n",
    "        print('Unique == 1: ',col)\n",
    "        mercedes_df.drop(columns=col,inplace= True)\n",
    "    elif(len(mercedes_df[col].unique()) == mercedes_df.shape[0]):\n",
    "        print(\"Unique == Shape[0]\",col)\n",
    "        mercedes_df.drop(columns=col,inplace= True)     \n",
    "\n",
    "# OUTCOME: removed all the unique value COLUMNS."
   ]
  },
  {
   "cell_type": "code",
   "execution_count": 6,
   "metadata": {},
   "outputs": [
    {
     "name": "stdout",
     "output_type": "stream",
     "text": [
      "New shape is:  (4209, 364)\n"
     ]
    }
   ],
   "source": [
    "print('New shape is: ',mercedes_df.shape)\n",
    "from sklearn.model_selection import train_test_split\n",
    "X_train, X_test, y_train, y_test = train_test_split(mercedes_df, y, test_size=0.20, random_state=0)"
   ]
  },
  {
   "cell_type": "code",
   "execution_count": 7,
   "metadata": {},
   "outputs": [
    {
     "name": "stdout",
     "output_type": "stream",
     "text": [
      "X0      object\n",
      "X1      object\n",
      "X2      object\n",
      "X3      object\n",
      "X4      object\n",
      "         ...  \n",
      "X380     int64\n",
      "X382     int64\n",
      "X383     int64\n",
      "X384     int64\n",
      "X385     int64\n",
      "Length: 364, dtype: object\n"
     ]
    },
    {
     "data": {
      "text/plain": [
       "z     290\n",
       "ak    272\n",
       "y     267\n",
       "t     246\n",
       "ay    242\n",
       "x     242\n",
       "o     215\n",
       "f     187\n",
       "n     152\n",
       "az    147\n",
       "w     144\n",
       "j     134\n",
       "aj    121\n",
       "s      85\n",
       "ap     79\n",
       "d      66\n",
       "h      60\n",
       "al     54\n",
       "v      32\n",
       "e      29\n",
       "ai     27\n",
       "af     26\n",
       "m      25\n",
       "ba     23\n",
       "i      17\n",
       "ax     16\n",
       "a      16\n",
       "am     16\n",
       "at     15\n",
       "l      14\n",
       "aw     14\n",
       "ad     13\n",
       "aq     12\n",
       "b      11\n",
       "u      11\n",
       "au      9\n",
       "k       8\n",
       "r       7\n",
       "as      7\n",
       "bc      6\n",
       "c       3\n",
       "q       2\n",
       "ao      2\n",
       "g       1\n",
       "ab      1\n",
       "aa      1\n",
       "Name: X0, dtype: int64"
      ]
     },
     "execution_count": 7,
     "metadata": {},
     "output_type": "execute_result"
    }
   ],
   "source": [
    "print(X_train.dtypes)\n",
    "X_train['X0'].value_counts()"
   ]
  },
  {
   "cell_type": "code",
   "execution_count": 8,
   "metadata": {},
   "outputs": [
    {
     "name": "stdout",
     "output_type": "stream",
     "text": [
      "object Column Name is:  X0\n",
      "object Column Name is:  X1\n",
      "object Column Name is:  X2\n",
      "object Column Name is:  X3\n",
      "object Column Name is:  X4\n",
      "object Column Name is:  X5\n",
      "object Column Name is:  X6\n",
      "object Column Name is:  X8\n"
     ]
    }
   ],
   "source": [
    "# find out the object column names\n",
    "for col in X_train.columns:\n",
    "    if(X_train[col].dtype =='object'):\n",
    "        print('object Column Name is: ', col)"
   ]
  },
  {
   "cell_type": "code",
   "execution_count": 12,
   "metadata": {},
   "outputs": [],
   "source": [
    "from sklearn.preprocessing import LabelEncoder\n",
    "lb_encoder = LabelEncoder()\n",
    "\n",
    "for col in X_train.columns:\n",
    "    if(X_train[col].dtype =='object'):\n",
    "        X_train[col+'_lb_code'] = lb_encoder.fit_transform(X_train[col])\n",
    "        print(X_train[[col, col+'_lb_code']].head(10))\n",
    "\n",
    "# OUTCOME:  current column and label encoded column"
   ]
  },
  {
   "cell_type": "code",
   "execution_count": 10,
   "metadata": {},
   "outputs": [
    {
     "name": "stderr",
     "output_type": "stream",
     "text": [
      "C:\\ProgramData\\Anaconda3\\lib\\site-packages\\pandas\\core\\frame.py:4102: SettingWithCopyWarning: \n",
      "A value is trying to be set on a copy of a slice from a DataFrame\n",
      "\n",
      "See the caveats in the documentation: http://pandas.pydata.org/pandas-docs/stable/user_guide/indexing.html#returning-a-view-versus-a-copy\n",
      "  errors=errors,\n"
     ]
    },
    {
     "data": {
      "text/plain": [
       "X10           int64\n",
       "X12           int64\n",
       "X13           int64\n",
       "X14           int64\n",
       "X15           int64\n",
       "              ...  \n",
       "X3_lb_code    int32\n",
       "X4_lb_code    int32\n",
       "X5_lb_code    int32\n",
       "X6_lb_code    int32\n",
       "X8_lb_code    int32\n",
       "Length: 364, dtype: object"
      ]
     },
     "execution_count": 10,
     "metadata": {},
     "output_type": "execute_result"
    }
   ],
   "source": [
    "\n",
    "for col in X_train.columns:\n",
    "    if(X_train[col].dtype =='object'):\n",
    "        X_train.drop(columns=col,inplace= True)\n",
    "\n",
    "X_train.dtypes"
   ]
  },
  {
   "cell_type": "code",
   "execution_count": 13,
   "metadata": {},
   "outputs": [
    {
     "data": {
      "text/html": [
       "<div>\n",
       "<style scoped>\n",
       "    .dataframe tbody tr th:only-of-type {\n",
       "        vertical-align: middle;\n",
       "    }\n",
       "\n",
       "    .dataframe tbody tr th {\n",
       "        vertical-align: top;\n",
       "    }\n",
       "\n",
       "    .dataframe thead th {\n",
       "        text-align: right;\n",
       "    }\n",
       "</style>\n",
       "<table border=\"1\" class=\"dataframe\">\n",
       "  <thead>\n",
       "    <tr style=\"text-align: right;\">\n",
       "      <th></th>\n",
       "      <th>VIF Factor</th>\n",
       "      <th>Column Name</th>\n",
       "    </tr>\n",
       "  </thead>\n",
       "  <tbody>\n",
       "    <tr>\n",
       "      <td>0</td>\n",
       "      <td>inf</td>\n",
       "      <td>X10</td>\n",
       "    </tr>\n",
       "    <tr>\n",
       "      <td>1</td>\n",
       "      <td>inf</td>\n",
       "      <td>X12</td>\n",
       "    </tr>\n",
       "    <tr>\n",
       "      <td>2</td>\n",
       "      <td>inf</td>\n",
       "      <td>X13</td>\n",
       "    </tr>\n",
       "    <tr>\n",
       "      <td>3</td>\n",
       "      <td>inf</td>\n",
       "      <td>X14</td>\n",
       "    </tr>\n",
       "    <tr>\n",
       "      <td>4</td>\n",
       "      <td>inf</td>\n",
       "      <td>X15</td>\n",
       "    </tr>\n",
       "    <tr>\n",
       "      <td>...</td>\n",
       "      <td>...</td>\n",
       "      <td>...</td>\n",
       "    </tr>\n",
       "    <tr>\n",
       "      <td>359</td>\n",
       "      <td>2.886710</td>\n",
       "      <td>X3_lb_code</td>\n",
       "    </tr>\n",
       "    <tr>\n",
       "      <td>360</td>\n",
       "      <td>1.047781</td>\n",
       "      <td>X4_lb_code</td>\n",
       "    </tr>\n",
       "    <tr>\n",
       "      <td>361</td>\n",
       "      <td>1.246189</td>\n",
       "      <td>X5_lb_code</td>\n",
       "    </tr>\n",
       "    <tr>\n",
       "      <td>362</td>\n",
       "      <td>1.300657</td>\n",
       "      <td>X6_lb_code</td>\n",
       "    </tr>\n",
       "    <tr>\n",
       "      <td>363</td>\n",
       "      <td>1.221824</td>\n",
       "      <td>X8_lb_code</td>\n",
       "    </tr>\n",
       "  </tbody>\n",
       "</table>\n",
       "<p>364 rows × 2 columns</p>\n",
       "</div>"
      ],
      "text/plain": [
       "     VIF Factor Column Name\n",
       "0           inf         X10\n",
       "1           inf         X12\n",
       "2           inf         X13\n",
       "3           inf         X14\n",
       "4           inf         X15\n",
       "..          ...         ...\n",
       "359    2.886710  X3_lb_code\n",
       "360    1.047781  X4_lb_code\n",
       "361    1.246189  X5_lb_code\n",
       "362    1.300657  X6_lb_code\n",
       "363    1.221824  X8_lb_code\n",
       "\n",
       "[364 rows x 2 columns]"
      ]
     },
     "execution_count": 13,
     "metadata": {},
     "output_type": "execute_result"
    }
   ],
   "source": [
    "from statsmodels.stats.outliers_influence import variance_inflation_factor\n",
    "vif = pd.DataFrame()\n",
    "vif['VIF Factor'] = [variance_inflation_factor(X_train.values, i) for i in range(X_train.shape[1])]\n",
    "vif['Column Name'] = X_train.columns\n",
    "vif"
   ]
  },
  {
   "cell_type": "code",
   "execution_count": 14,
   "metadata": {},
   "outputs": [],
   "source": [
    "class LabelEncoderExt(object):\n",
    "    def __init__(self):\n",
    "        \"\"\"\n",
    "        It differs from LabelEncoder by handling new classes and providing a value for it [Unknown]\n",
    "        Unknown will be added in fit and transform will take care of new item. It gives unknown class id\n",
    "        \"\"\"\n",
    "        self.label_encoder = LabelEncoder()\n",
    "        # self.classes_ = self.label_encoder.classes_\n",
    "\n",
    "    def fit(self, data_list):\n",
    "        \"\"\"\n",
    "        This will fit the encoder for all the unique values and introduce unknown value\n",
    "        :param data_list: A list of string\n",
    "        :return: self\n",
    "        \"\"\"\n",
    "        self.label_encoder = self.label_encoder.fit(list(data_list) + ['Unknown'])\n",
    "        self.classes_ = self.label_encoder.classes_\n",
    "\n",
    "        return self\n",
    "\n",
    "    def transform(self, data_list):\n",
    "        \"\"\"\n",
    "        This will transform the data_list to id list where the new values get assigned to Unknown class\n",
    "        :param data_list:\n",
    "        :return:\n",
    "        \"\"\"\n",
    "        new_data_list = list(data_list)\n",
    "        for unique_item in np.unique(data_list):\n",
    "            if unique_item not in self.label_encoder.classes_:\n",
    "                new_data_list = ['Unknown' if x==unique_item else x for x in new_data_list]\n",
    "\n",
    "        return self.label_encoder.transform(new_data_list)\n"
   ]
  },
  {
   "cell_type": "code",
   "execution_count": 15,
   "metadata": {},
   "outputs": [
    {
     "name": "stdout",
     "output_type": "stream",
     "text": [
      "['X0', 'X1', 'X2', 'X3', 'X4', 'X5', 'X6', 'X8']\n"
     ]
    },
    {
     "name": "stderr",
     "output_type": "stream",
     "text": [
      "C:\\ProgramData\\Anaconda3\\lib\\site-packages\\ipykernel_launcher.py:8: SettingWithCopyWarning: \n",
      "A value is trying to be set on a copy of a slice from a DataFrame.\n",
      "Try using .loc[row_indexer,col_indexer] = value instead\n",
      "\n",
      "See the caveats in the documentation: http://pandas.pydata.org/pandas-docs/stable/user_guide/indexing.html#returning-a-view-versus-a-copy\n",
      "  \n",
      "C:\\ProgramData\\Anaconda3\\lib\\site-packages\\ipykernel_launcher.py:9: SettingWithCopyWarning: \n",
      "A value is trying to be set on a copy of a slice from a DataFrame.\n",
      "Try using .loc[row_indexer,col_indexer] = value instead\n",
      "\n",
      "See the caveats in the documentation: http://pandas.pydata.org/pandas-docs/stable/user_guide/indexing.html#returning-a-view-versus-a-copy\n",
      "  if __name__ == '__main__':\n"
     ]
    },
    {
     "data": {
      "text/plain": [
       "array([[ 7, 14, 16, ...,  0,  0,  0],\n",
       "       [ 8, 24, 38, ...,  0,  0,  0],\n",
       "       [29,  1,  9, ...,  0,  0,  0],\n",
       "       ...,\n",
       "       [40,  4, 16, ...,  0,  0,  0],\n",
       "       [43, 21, 16, ...,  0,  0,  0],\n",
       "       [ 1, 24, 31, ...,  0,  0,  0]], dtype=int64)"
      ]
     },
     "execution_count": 15,
     "metadata": {},
     "output_type": "execute_result"
    }
   ],
   "source": [
    "le_ext = LabelEncoderExt()\n",
    "X1_train, X1_test, y1_train, y1_test = train_test_split(mercedes_df, y, test_size=0.20, random_state=0)\n",
    "\n",
    "cat_cols = [col for col in X1_train.columns if X1_train[col].dtype == 'object']\n",
    "print(cat_cols)\n",
    "for col in cat_cols:\n",
    "    le_ext.fit(X1_train[col])\n",
    "    X1_train[col]= le_ext.transform(X1_train[col])\n",
    "    X1_test[col] = le_ext.transform(X1_test[col])\n",
    "\n",
    "X1_train.values"
   ]
  },
  {
   "cell_type": "code",
   "execution_count": 16,
   "metadata": {},
   "outputs": [
    {
     "data": {
      "text/html": [
       "<div>\n",
       "<style scoped>\n",
       "    .dataframe tbody tr th:only-of-type {\n",
       "        vertical-align: middle;\n",
       "    }\n",
       "\n",
       "    .dataframe tbody tr th {\n",
       "        vertical-align: top;\n",
       "    }\n",
       "\n",
       "    .dataframe thead th {\n",
       "        text-align: right;\n",
       "    }\n",
       "</style>\n",
       "<table border=\"1\" class=\"dataframe\">\n",
       "  <thead>\n",
       "    <tr style=\"text-align: right;\">\n",
       "      <th></th>\n",
       "      <th>VIF Factor</th>\n",
       "      <th>Column Name</th>\n",
       "    </tr>\n",
       "  </thead>\n",
       "  <tbody>\n",
       "    <tr>\n",
       "      <td>0</td>\n",
       "      <td>2.682949</td>\n",
       "      <td>X0</td>\n",
       "    </tr>\n",
       "    <tr>\n",
       "      <td>1</td>\n",
       "      <td>6.617434</td>\n",
       "      <td>X1</td>\n",
       "    </tr>\n",
       "    <tr>\n",
       "      <td>2</td>\n",
       "      <td>20.745911</td>\n",
       "      <td>X2</td>\n",
       "    </tr>\n",
       "    <tr>\n",
       "      <td>3</td>\n",
       "      <td>2.886710</td>\n",
       "      <td>X3</td>\n",
       "    </tr>\n",
       "    <tr>\n",
       "      <td>4</td>\n",
       "      <td>1.047781</td>\n",
       "      <td>X4</td>\n",
       "    </tr>\n",
       "    <tr>\n",
       "      <td>...</td>\n",
       "      <td>...</td>\n",
       "      <td>...</td>\n",
       "    </tr>\n",
       "    <tr>\n",
       "      <td>359</td>\n",
       "      <td>inf</td>\n",
       "      <td>X380</td>\n",
       "    </tr>\n",
       "    <tr>\n",
       "      <td>360</td>\n",
       "      <td>inf</td>\n",
       "      <td>X382</td>\n",
       "    </tr>\n",
       "    <tr>\n",
       "      <td>361</td>\n",
       "      <td>1.903061</td>\n",
       "      <td>X383</td>\n",
       "    </tr>\n",
       "    <tr>\n",
       "      <td>362</td>\n",
       "      <td>2.214770</td>\n",
       "      <td>X384</td>\n",
       "    </tr>\n",
       "    <tr>\n",
       "      <td>363</td>\n",
       "      <td>inf</td>\n",
       "      <td>X385</td>\n",
       "    </tr>\n",
       "  </tbody>\n",
       "</table>\n",
       "<p>364 rows × 2 columns</p>\n",
       "</div>"
      ],
      "text/plain": [
       "     VIF Factor Column Name\n",
       "0      2.682949          X0\n",
       "1      6.617434          X1\n",
       "2     20.745911          X2\n",
       "3      2.886710          X3\n",
       "4      1.047781          X4\n",
       "..          ...         ...\n",
       "359         inf        X380\n",
       "360         inf        X382\n",
       "361    1.903061        X383\n",
       "362    2.214770        X384\n",
       "363         inf        X385\n",
       "\n",
       "[364 rows x 2 columns]"
      ]
     },
     "execution_count": 16,
     "metadata": {},
     "output_type": "execute_result"
    }
   ],
   "source": [
    "from statsmodels.stats.outliers_influence import variance_inflation_factor\n",
    "vif1 = pd.DataFrame()\n",
    "vif1['VIF Factor'] = [variance_inflation_factor(X1_train.values, i) for i in range(X1_train.shape[1])]\n",
    "vif1['Column Name'] = X1_train.columns\n",
    "vif1"
   ]
  },
  {
   "cell_type": "code",
   "execution_count": 17,
   "metadata": {},
   "outputs": [
    {
     "data": {
      "text/plain": [
       "array([3.81606205e-01, 2.08343380e-01, 1.35233418e-01, 1.21892677e-01,\n",
       "       9.22270692e-02, 1.62112945e-02, 7.59262169e-03, 4.40510246e-03,\n",
       "       2.94179497e-03, 2.46608100e-03, 2.36902522e-03, 2.11489299e-03,\n",
       "       1.70314060e-03, 1.50796457e-03, 1.31069845e-03, 1.05452661e-03,\n",
       "       9.77493984e-04, 8.92871865e-04, 7.89311374e-04, 7.20426439e-04,\n",
       "       6.52971814e-04, 6.30446558e-04, 5.96737499e-04, 5.11711805e-04,\n",
       "       4.90356263e-04, 4.35265987e-04, 4.25981490e-04, 3.85445584e-04,\n",
       "       3.80593997e-04, 3.56817716e-04, 3.45186447e-04, 3.18877304e-04,\n",
       "       3.03843915e-04, 2.85811808e-04, 2.67833961e-04, 2.49451607e-04,\n",
       "       2.20918279e-04, 2.10209497e-04, 2.08222981e-04, 1.99562261e-04,\n",
       "       1.91164684e-04, 1.82356860e-04, 1.77809608e-04, 1.74502069e-04,\n",
       "       1.72116479e-04, 1.56965786e-04, 1.48601188e-04, 1.45759490e-04,\n",
       "       1.41188306e-04, 1.37259615e-04, 1.33722923e-04, 1.28272427e-04,\n",
       "       1.23621396e-04, 1.18063064e-04, 1.14059986e-04, 1.10538233e-04,\n",
       "       1.08011281e-04, 1.03700480e-04, 1.01780892e-04, 9.87145194e-05,\n",
       "       9.25259443e-05, 9.07739202e-05, 8.67127250e-05, 8.53008326e-05,\n",
       "       8.09531484e-05, 7.84012843e-05, 7.75993600e-05, 7.45119378e-05,\n",
       "       7.11815615e-05, 7.05073884e-05, 6.77679057e-05, 6.75955695e-05,\n",
       "       6.39212681e-05, 6.13904537e-05, 6.05733439e-05, 5.90125699e-05,\n",
       "       5.71437237e-05, 5.53133477e-05, 5.49173641e-05, 5.39195703e-05,\n",
       "       5.25889420e-05, 5.11148298e-05, 5.05567122e-05, 4.86008849e-05,\n",
       "       4.71661271e-05, 4.56545810e-05, 4.49520965e-05, 4.34442306e-05,\n",
       "       4.30681192e-05, 4.25327529e-05, 4.21850061e-05, 3.96353467e-05,\n",
       "       3.78304713e-05, 3.71744144e-05, 3.62436469e-05, 3.51894021e-05,\n",
       "       3.42454478e-05, 3.40380785e-05, 3.34215016e-05, 3.27056334e-05,\n",
       "       3.22556977e-05, 3.11777123e-05, 2.99769496e-05, 2.90544739e-05,\n",
       "       2.80816411e-05, 2.73222093e-05, 2.68964770e-05, 2.57739994e-05,\n",
       "       2.55928955e-05, 2.44730325e-05, 2.42218471e-05, 2.36158765e-05,\n",
       "       2.30358404e-05, 2.23613246e-05, 2.16247617e-05, 2.05931642e-05,\n",
       "       2.04502802e-05, 1.97393712e-05, 1.91052446e-05, 1.85971073e-05,\n",
       "       1.84097187e-05, 1.81818820e-05, 1.74981156e-05, 1.72630525e-05,\n",
       "       1.69337864e-05, 1.62284526e-05, 1.62147373e-05, 1.59659377e-05,\n",
       "       1.58527278e-05, 1.50620782e-05, 1.43627576e-05, 1.41144507e-05,\n",
       "       1.39623596e-05, 1.36221141e-05, 1.31116941e-05, 1.28715218e-05,\n",
       "       1.26356861e-05, 1.24580072e-05, 1.22150600e-05, 1.17618661e-05,\n",
       "       1.14049402e-05, 1.08931991e-05, 1.07834528e-05, 1.02263277e-05,\n",
       "       9.67098992e-06, 9.49898115e-06, 9.34928774e-06, 8.87356814e-06,\n",
       "       8.82194307e-06, 8.53367385e-06, 8.33092326e-06, 7.99563147e-06,\n",
       "       7.92037778e-06, 7.76259666e-06, 7.60001631e-06, 7.05671820e-06,\n",
       "       7.00738869e-06, 6.75969656e-06, 6.54458495e-06, 6.43694741e-06,\n",
       "       6.23536772e-06, 6.16784735e-06, 5.90600816e-06, 5.67897967e-06,\n",
       "       5.53150898e-06, 5.29508386e-06, 5.25903461e-06, 4.93320512e-06,\n",
       "       4.86049132e-06, 4.73503167e-06, 4.61689746e-06, 4.42700023e-06,\n",
       "       4.23140305e-06, 4.08835908e-06, 4.02333311e-06, 3.90669727e-06,\n",
       "       3.77482846e-06, 3.66583728e-06, 3.55623903e-06, 3.43631067e-06,\n",
       "       3.26564707e-06, 3.20843334e-06, 3.15972537e-06, 3.03711139e-06,\n",
       "       2.91568051e-06, 2.84057224e-06, 2.83057221e-06, 2.68266056e-06,\n",
       "       2.52740920e-06, 2.50297463e-06, 2.43478762e-06, 2.35354273e-06,\n",
       "       2.28296482e-06, 2.26222660e-06, 2.22716236e-06, 2.17363147e-06,\n",
       "       2.06385424e-06, 1.98624698e-06, 1.94712528e-06, 1.93128079e-06,\n",
       "       1.87444605e-06, 1.86028197e-06, 1.77987749e-06, 1.69901090e-06,\n",
       "       1.65536934e-06, 1.62050011e-06, 1.57112263e-06, 1.51742469e-06,\n",
       "       1.44000130e-06, 1.42181587e-06, 1.32386660e-06, 1.28477754e-06,\n",
       "       1.25501498e-06, 1.19102745e-06, 1.14545538e-06, 1.09459212e-06,\n",
       "       1.05878274e-06, 9.94523230e-07, 9.72970427e-07, 9.48604522e-07,\n",
       "       9.38839571e-07, 9.06296095e-07, 8.85727450e-07, 8.32392917e-07,\n",
       "       8.03951854e-07, 7.91601294e-07, 7.43260562e-07, 7.34450685e-07,\n",
       "       6.70107468e-07, 6.51872952e-07, 6.26290262e-07, 5.55004233e-07,\n",
       "       5.36091487e-07, 5.30292486e-07, 5.13579254e-07, 5.05539755e-07,\n",
       "       5.00847592e-07, 4.92068203e-07, 4.56379713e-07, 4.49920633e-07,\n",
       "       3.78214935e-07, 3.66528290e-07, 3.36465008e-07, 3.29249474e-07,\n",
       "       3.11386004e-07, 2.79818069e-07, 2.21281179e-07, 1.99945972e-07,\n",
       "       1.84079702e-07, 1.63435179e-07, 1.48244120e-07, 1.21347188e-07,\n",
       "       1.12720814e-07, 7.96977306e-08, 7.52585540e-32, 3.55987908e-33,\n",
       "       3.55987908e-33, 3.55987908e-33, 3.55987908e-33, 3.55987908e-33,\n",
       "       3.55987908e-33, 3.55987908e-33, 3.55987908e-33, 3.55987908e-33,\n",
       "       3.55987908e-33, 3.55987908e-33, 3.55987908e-33, 3.55987908e-33,\n",
       "       3.55987908e-33, 3.55987908e-33, 3.55987908e-33, 3.55987908e-33,\n",
       "       3.55987908e-33, 3.55987908e-33, 3.55987908e-33, 3.55987908e-33,\n",
       "       3.55987908e-33, 3.55987908e-33, 3.55987908e-33, 3.55987908e-33,\n",
       "       3.55987908e-33, 3.55987908e-33, 3.55987908e-33, 3.55987908e-33,\n",
       "       3.55987908e-33, 3.55987908e-33, 3.55987908e-33, 3.55987908e-33,\n",
       "       3.55987908e-33, 3.55987908e-33, 3.55987908e-33, 3.55987908e-33,\n",
       "       3.55987908e-33, 3.55987908e-33, 3.55987908e-33, 3.55987908e-33,\n",
       "       3.55987908e-33, 3.55987908e-33, 3.55987908e-33, 3.55987908e-33,\n",
       "       3.55987908e-33, 3.55987908e-33, 3.55987908e-33, 3.55987908e-33,\n",
       "       3.55987908e-33, 3.55987908e-33, 3.55987908e-33, 3.55987908e-33,\n",
       "       3.55987908e-33, 3.55987908e-33, 3.55987908e-33, 3.55987908e-33,\n",
       "       3.55987908e-33, 3.55987908e-33, 3.55987908e-33, 3.55987908e-33,\n",
       "       3.55987908e-33, 3.55987908e-33, 3.55987908e-33, 3.55987908e-33,\n",
       "       3.55987908e-33, 3.55987908e-33, 3.55987908e-33, 3.55987908e-33,\n",
       "       3.55987908e-33, 3.55987908e-33, 3.55987908e-33, 3.55987908e-33,\n",
       "       3.55987908e-33, 3.55987908e-33, 3.55987908e-33, 3.55987908e-33,\n",
       "       3.55987908e-33, 3.55987908e-33, 3.55987908e-33, 3.55987908e-33,\n",
       "       3.55987908e-33, 3.55987908e-33, 3.55987908e-33, 3.55987908e-33,\n",
       "       3.55987908e-33, 3.55987908e-33, 3.55987908e-33, 3.55987908e-33,\n",
       "       3.55987908e-33, 3.55987908e-33, 3.55987908e-33, 3.55987908e-33,\n",
       "       3.55987908e-33, 3.55987908e-33, 3.55987908e-33, 3.55987908e-33,\n",
       "       3.55987908e-33, 3.55987908e-33, 3.55987908e-33, 3.55987908e-33,\n",
       "       3.55987908e-33, 3.55987908e-33, 3.55987908e-33, 3.55987908e-33,\n",
       "       3.55987908e-33, 3.55987908e-33, 3.55987908e-33, 3.55987908e-33])"
      ]
     },
     "execution_count": 17,
     "metadata": {},
     "output_type": "execute_result"
    }
   ],
   "source": [
    "# implement standard scaling before PCA \n",
    "# no need of doing scaling as data is 1 or 0\n",
    "from sklearn.decomposition import PCA\n",
    "\n",
    "pca = PCA()\n",
    "principal_components = pca.fit_transform(X1_train)\n",
    "pca.explained_variance_ratio_"
   ]
  },
  {
   "cell_type": "code",
   "execution_count": 18,
   "metadata": {},
   "outputs": [
    {
     "data": {
      "text/html": [
       "<div>\n",
       "<style scoped>\n",
       "    .dataframe tbody tr th:only-of-type {\n",
       "        vertical-align: middle;\n",
       "    }\n",
       "\n",
       "    .dataframe tbody tr th {\n",
       "        vertical-align: top;\n",
       "    }\n",
       "\n",
       "    .dataframe thead th {\n",
       "        text-align: right;\n",
       "    }\n",
       "</style>\n",
       "<table border=\"1\" class=\"dataframe\">\n",
       "  <thead>\n",
       "    <tr style=\"text-align: right;\">\n",
       "      <th></th>\n",
       "      <th>Coeff.</th>\n",
       "      <th>Exp. Var</th>\n",
       "      <th>Cum. Exp. Var.</th>\n",
       "    </tr>\n",
       "  </thead>\n",
       "  <tbody>\n",
       "    <tr>\n",
       "      <td>0</td>\n",
       "      <td>0</td>\n",
       "      <td>0.381606</td>\n",
       "      <td>0.381606</td>\n",
       "    </tr>\n",
       "    <tr>\n",
       "      <td>1</td>\n",
       "      <td>1</td>\n",
       "      <td>0.208343</td>\n",
       "      <td>0.589950</td>\n",
       "    </tr>\n",
       "    <tr>\n",
       "      <td>2</td>\n",
       "      <td>2</td>\n",
       "      <td>0.135233</td>\n",
       "      <td>0.725183</td>\n",
       "    </tr>\n",
       "    <tr>\n",
       "      <td>3</td>\n",
       "      <td>3</td>\n",
       "      <td>0.121893</td>\n",
       "      <td>0.847076</td>\n",
       "    </tr>\n",
       "    <tr>\n",
       "      <td>4</td>\n",
       "      <td>4</td>\n",
       "      <td>0.092227</td>\n",
       "      <td>0.939303</td>\n",
       "    </tr>\n",
       "    <tr>\n",
       "      <td>5</td>\n",
       "      <td>5</td>\n",
       "      <td>0.016211</td>\n",
       "      <td>0.955514</td>\n",
       "    </tr>\n",
       "    <tr>\n",
       "      <td>6</td>\n",
       "      <td>6</td>\n",
       "      <td>0.007593</td>\n",
       "      <td>0.963107</td>\n",
       "    </tr>\n",
       "    <tr>\n",
       "      <td>7</td>\n",
       "      <td>7</td>\n",
       "      <td>0.004405</td>\n",
       "      <td>0.967512</td>\n",
       "    </tr>\n",
       "    <tr>\n",
       "      <td>8</td>\n",
       "      <td>8</td>\n",
       "      <td>0.002942</td>\n",
       "      <td>0.970454</td>\n",
       "    </tr>\n",
       "    <tr>\n",
       "      <td>9</td>\n",
       "      <td>9</td>\n",
       "      <td>0.002466</td>\n",
       "      <td>0.972920</td>\n",
       "    </tr>\n",
       "    <tr>\n",
       "      <td>10</td>\n",
       "      <td>10</td>\n",
       "      <td>0.002369</td>\n",
       "      <td>0.975289</td>\n",
       "    </tr>\n",
       "    <tr>\n",
       "      <td>11</td>\n",
       "      <td>11</td>\n",
       "      <td>0.002115</td>\n",
       "      <td>0.977404</td>\n",
       "    </tr>\n",
       "    <tr>\n",
       "      <td>12</td>\n",
       "      <td>12</td>\n",
       "      <td>0.001703</td>\n",
       "      <td>0.979107</td>\n",
       "    </tr>\n",
       "    <tr>\n",
       "      <td>13</td>\n",
       "      <td>13</td>\n",
       "      <td>0.001508</td>\n",
       "      <td>0.980615</td>\n",
       "    </tr>\n",
       "    <tr>\n",
       "      <td>14</td>\n",
       "      <td>14</td>\n",
       "      <td>0.001311</td>\n",
       "      <td>0.981925</td>\n",
       "    </tr>\n",
       "    <tr>\n",
       "      <td>15</td>\n",
       "      <td>15</td>\n",
       "      <td>0.001055</td>\n",
       "      <td>0.982980</td>\n",
       "    </tr>\n",
       "    <tr>\n",
       "      <td>16</td>\n",
       "      <td>16</td>\n",
       "      <td>0.000977</td>\n",
       "      <td>0.983957</td>\n",
       "    </tr>\n",
       "    <tr>\n",
       "      <td>17</td>\n",
       "      <td>17</td>\n",
       "      <td>0.000893</td>\n",
       "      <td>0.984850</td>\n",
       "    </tr>\n",
       "    <tr>\n",
       "      <td>18</td>\n",
       "      <td>18</td>\n",
       "      <td>0.000789</td>\n",
       "      <td>0.985640</td>\n",
       "    </tr>\n",
       "    <tr>\n",
       "      <td>19</td>\n",
       "      <td>19</td>\n",
       "      <td>0.000720</td>\n",
       "      <td>0.986360</td>\n",
       "    </tr>\n",
       "    <tr>\n",
       "      <td>20</td>\n",
       "      <td>20</td>\n",
       "      <td>0.000653</td>\n",
       "      <td>0.987013</td>\n",
       "    </tr>\n",
       "    <tr>\n",
       "      <td>21</td>\n",
       "      <td>21</td>\n",
       "      <td>0.000630</td>\n",
       "      <td>0.987643</td>\n",
       "    </tr>\n",
       "    <tr>\n",
       "      <td>22</td>\n",
       "      <td>22</td>\n",
       "      <td>0.000597</td>\n",
       "      <td>0.988240</td>\n",
       "    </tr>\n",
       "    <tr>\n",
       "      <td>23</td>\n",
       "      <td>23</td>\n",
       "      <td>0.000512</td>\n",
       "      <td>0.988752</td>\n",
       "    </tr>\n",
       "    <tr>\n",
       "      <td>24</td>\n",
       "      <td>24</td>\n",
       "      <td>0.000490</td>\n",
       "      <td>0.989242</td>\n",
       "    </tr>\n",
       "    <tr>\n",
       "      <td>25</td>\n",
       "      <td>25</td>\n",
       "      <td>0.000435</td>\n",
       "      <td>0.989677</td>\n",
       "    </tr>\n",
       "    <tr>\n",
       "      <td>26</td>\n",
       "      <td>26</td>\n",
       "      <td>0.000426</td>\n",
       "      <td>0.990103</td>\n",
       "    </tr>\n",
       "    <tr>\n",
       "      <td>27</td>\n",
       "      <td>27</td>\n",
       "      <td>0.000385</td>\n",
       "      <td>0.990489</td>\n",
       "    </tr>\n",
       "    <tr>\n",
       "      <td>28</td>\n",
       "      <td>28</td>\n",
       "      <td>0.000381</td>\n",
       "      <td>0.990870</td>\n",
       "    </tr>\n",
       "    <tr>\n",
       "      <td>29</td>\n",
       "      <td>29</td>\n",
       "      <td>0.000357</td>\n",
       "      <td>0.991226</td>\n",
       "    </tr>\n",
       "    <tr>\n",
       "      <td>30</td>\n",
       "      <td>30</td>\n",
       "      <td>0.000345</td>\n",
       "      <td>0.991572</td>\n",
       "    </tr>\n",
       "    <tr>\n",
       "      <td>31</td>\n",
       "      <td>31</td>\n",
       "      <td>0.000319</td>\n",
       "      <td>0.991890</td>\n",
       "    </tr>\n",
       "    <tr>\n",
       "      <td>32</td>\n",
       "      <td>32</td>\n",
       "      <td>0.000304</td>\n",
       "      <td>0.992194</td>\n",
       "    </tr>\n",
       "    <tr>\n",
       "      <td>33</td>\n",
       "      <td>33</td>\n",
       "      <td>0.000286</td>\n",
       "      <td>0.992480</td>\n",
       "    </tr>\n",
       "    <tr>\n",
       "      <td>34</td>\n",
       "      <td>34</td>\n",
       "      <td>0.000268</td>\n",
       "      <td>0.992748</td>\n",
       "    </tr>\n",
       "    <tr>\n",
       "      <td>35</td>\n",
       "      <td>35</td>\n",
       "      <td>0.000249</td>\n",
       "      <td>0.992997</td>\n",
       "    </tr>\n",
       "    <tr>\n",
       "      <td>36</td>\n",
       "      <td>36</td>\n",
       "      <td>0.000221</td>\n",
       "      <td>0.993218</td>\n",
       "    </tr>\n",
       "    <tr>\n",
       "      <td>37</td>\n",
       "      <td>37</td>\n",
       "      <td>0.000210</td>\n",
       "      <td>0.993428</td>\n",
       "    </tr>\n",
       "    <tr>\n",
       "      <td>38</td>\n",
       "      <td>38</td>\n",
       "      <td>0.000208</td>\n",
       "      <td>0.993637</td>\n",
       "    </tr>\n",
       "    <tr>\n",
       "      <td>39</td>\n",
       "      <td>39</td>\n",
       "      <td>0.000200</td>\n",
       "      <td>0.993836</td>\n",
       "    </tr>\n",
       "    <tr>\n",
       "      <td>40</td>\n",
       "      <td>40</td>\n",
       "      <td>0.000191</td>\n",
       "      <td>0.994027</td>\n",
       "    </tr>\n",
       "    <tr>\n",
       "      <td>41</td>\n",
       "      <td>41</td>\n",
       "      <td>0.000182</td>\n",
       "      <td>0.994210</td>\n",
       "    </tr>\n",
       "    <tr>\n",
       "      <td>42</td>\n",
       "      <td>42</td>\n",
       "      <td>0.000178</td>\n",
       "      <td>0.994388</td>\n",
       "    </tr>\n",
       "    <tr>\n",
       "      <td>43</td>\n",
       "      <td>43</td>\n",
       "      <td>0.000175</td>\n",
       "      <td>0.994562</td>\n",
       "    </tr>\n",
       "    <tr>\n",
       "      <td>44</td>\n",
       "      <td>44</td>\n",
       "      <td>0.000172</td>\n",
       "      <td>0.994734</td>\n",
       "    </tr>\n",
       "    <tr>\n",
       "      <td>45</td>\n",
       "      <td>45</td>\n",
       "      <td>0.000157</td>\n",
       "      <td>0.994891</td>\n",
       "    </tr>\n",
       "    <tr>\n",
       "      <td>46</td>\n",
       "      <td>46</td>\n",
       "      <td>0.000149</td>\n",
       "      <td>0.995040</td>\n",
       "    </tr>\n",
       "    <tr>\n",
       "      <td>47</td>\n",
       "      <td>47</td>\n",
       "      <td>0.000146</td>\n",
       "      <td>0.995186</td>\n",
       "    </tr>\n",
       "    <tr>\n",
       "      <td>48</td>\n",
       "      <td>48</td>\n",
       "      <td>0.000141</td>\n",
       "      <td>0.995327</td>\n",
       "    </tr>\n",
       "    <tr>\n",
       "      <td>49</td>\n",
       "      <td>49</td>\n",
       "      <td>0.000137</td>\n",
       "      <td>0.995464</td>\n",
       "    </tr>\n",
       "  </tbody>\n",
       "</table>\n",
       "</div>"
      ],
      "text/plain": [
       "    Coeff.  Exp. Var  Cum. Exp. Var.\n",
       "0        0  0.381606        0.381606\n",
       "1        1  0.208343        0.589950\n",
       "2        2  0.135233        0.725183\n",
       "3        3  0.121893        0.847076\n",
       "4        4  0.092227        0.939303\n",
       "5        5  0.016211        0.955514\n",
       "6        6  0.007593        0.963107\n",
       "7        7  0.004405        0.967512\n",
       "8        8  0.002942        0.970454\n",
       "9        9  0.002466        0.972920\n",
       "10      10  0.002369        0.975289\n",
       "11      11  0.002115        0.977404\n",
       "12      12  0.001703        0.979107\n",
       "13      13  0.001508        0.980615\n",
       "14      14  0.001311        0.981925\n",
       "15      15  0.001055        0.982980\n",
       "16      16  0.000977        0.983957\n",
       "17      17  0.000893        0.984850\n",
       "18      18  0.000789        0.985640\n",
       "19      19  0.000720        0.986360\n",
       "20      20  0.000653        0.987013\n",
       "21      21  0.000630        0.987643\n",
       "22      22  0.000597        0.988240\n",
       "23      23  0.000512        0.988752\n",
       "24      24  0.000490        0.989242\n",
       "25      25  0.000435        0.989677\n",
       "26      26  0.000426        0.990103\n",
       "27      27  0.000385        0.990489\n",
       "28      28  0.000381        0.990870\n",
       "29      29  0.000357        0.991226\n",
       "30      30  0.000345        0.991572\n",
       "31      31  0.000319        0.991890\n",
       "32      32  0.000304        0.992194\n",
       "33      33  0.000286        0.992480\n",
       "34      34  0.000268        0.992748\n",
       "35      35  0.000249        0.992997\n",
       "36      36  0.000221        0.993218\n",
       "37      37  0.000210        0.993428\n",
       "38      38  0.000208        0.993637\n",
       "39      39  0.000200        0.993836\n",
       "40      40  0.000191        0.994027\n",
       "41      41  0.000182        0.994210\n",
       "42      42  0.000178        0.994388\n",
       "43      43  0.000175        0.994562\n",
       "44      44  0.000172        0.994734\n",
       "45      45  0.000157        0.994891\n",
       "46      46  0.000149        0.995040\n",
       "47      47  0.000146        0.995186\n",
       "48      48  0.000141        0.995327\n",
       "49      49  0.000137        0.995464"
      ]
     },
     "execution_count": 18,
     "metadata": {},
     "output_type": "execute_result"
    }
   ],
   "source": [
    "exp_var_df = pd.DataFrame({'Coeff.': np.arange(0, len(X1_train.columns)),\n",
    "                           'Exp. Var': pca.explained_variance_ratio_,\n",
    "                           'Cum. Exp. Var.': np.cumsum(pca.explained_variance_ratio_)  \n",
    "})\n",
    "\n",
    "exp_var_df.head(50)"
   ]
  },
  {
   "cell_type": "code",
   "execution_count": 19,
   "metadata": {},
   "outputs": [],
   "source": [
    "pcafinal = PCA(n_components=30)\n",
    "pca_train = pcafinal.fit_transform(X1_train)\n",
    "X1_train_pca = pd.DataFrame(pca_train)\n",
    "\n",
    "pca_test = pcafinal.transform(X1_test)\n",
    "X1_test_pca = pd.DataFrame(pca_test)"
   ]
  },
  {
   "cell_type": "code",
   "execution_count": 20,
   "metadata": {},
   "outputs": [
    {
     "data": {
      "text/plain": [
       "(3367, 30)"
      ]
     },
     "execution_count": 20,
     "metadata": {},
     "output_type": "execute_result"
    }
   ],
   "source": [
    "pca_train.shape"
   ]
  },
  {
   "cell_type": "code",
   "execution_count": 21,
   "metadata": {},
   "outputs": [
    {
     "name": "stdout",
     "output_type": "stream",
     "text": [
      "PCA Linear Regression MSE: 109.59\n"
     ]
    }
   ],
   "source": [
    "from sklearn.linear_model import LinearRegression\n",
    "from sklearn.metrics import mean_squared_error\n",
    "\n",
    "linreg_pca = LinearRegression()\n",
    "linreg_pca.fit(X1_train_pca, y1_train)\n",
    "linreg_pca_pred = linreg_pca.predict(X1_test_pca)\n",
    "\n",
    "print('PCA Linear Regression MSE: %.2f' %mean_squared_error(y1_test, linreg_pca_pred))"
   ]
  },
  {
   "cell_type": "code",
   "execution_count": 22,
   "metadata": {},
   "outputs": [
    {
     "name": "stdout",
     "output_type": "stream",
     "text": [
      "Simple Liner Regression MSE: 2.13e+19\n"
     ]
    }
   ],
   "source": [
    "linreg = LinearRegression()\n",
    "linreg.fit(X1_train, y1_train)\n",
    "linreg_pred = linreg.predict(X1_test)\n",
    "\n",
    "print('Simple Liner Regression MSE: %.2e' %mean_squared_error(y1_test, linreg_pred))\n"
   ]
  },
  {
   "cell_type": "code",
   "execution_count": 41,
   "metadata": {},
   "outputs": [
    {
     "name": "stderr",
     "output_type": "stream",
     "text": [
      "C:\\Users\\madhunagakishore.k\\AppData\\Local\\Continuum\\anaconda3\\lib\\site-packages\\sklearn\\ensemble\\forest.py:245: FutureWarning: The default value of n_estimators will change from 10 in version 0.20 to 100 in 0.22.\n",
      "  \"10 in version 0.20 to 100 in 0.22.\", FutureWarning)\n"
     ]
    },
    {
     "name": "stdout",
     "output_type": "stream",
     "text": [
      "PCA Data RF MSE: 122.26\n"
     ]
    }
   ],
   "source": [
    "from sklearn.ensemble import RandomForestRegressor\n",
    "\n",
    "rfreg_pca = RandomForestRegressor(random_state=2)\n",
    "rfreg_pca.fit(X1_train_pca, y1_train)\n",
    "rfreg_pca_pred = rfreg_pca.predict(X1_test_pca)\n",
    "\n",
    "print('PCA Data RF MSE: %.2f' %mean_squared_error(y1_test, rfreg_pca_pred))"
   ]
  },
  {
   "cell_type": "code",
   "execution_count": 44,
   "metadata": {},
   "outputs": [
    {
     "data": {
      "text/plain": [
       "array([ 0.15337232,  0.01852314, -0.08072477, -0.0750485 ,  0.00609287,\n",
       "        0.        ,  0.86447215, -2.22583746, -0.        ,  2.37671718,\n",
       "        0.61797119, -2.27790805,  0.14234852, -1.38801567,  0.        ,\n",
       "        0.87058399, -3.63193279,  0.        , -0.        ,  0.        ,\n",
       "       -0.        ,  0.        ,  0.        , -0.        , -0.        ,\n",
       "        0.        ,  0.        ,  0.        ,  0.        ,  0.        ])"
      ]
     },
     "execution_count": 44,
     "metadata": {},
     "output_type": "execute_result"
    }
   ],
   "source": [
    "from sklearn.linear_model import Lasso\n",
    "\n",
    "pca_lassoreg = Lasso()\n",
    "pca_lassoreg.fit(X1_train_pca, y1_train)\n",
    "pca_lassoreg.coef_"
   ]
  },
  {
   "cell_type": "code",
   "execution_count": 48,
   "metadata": {},
   "outputs": [
    {
     "data": {
      "text/plain": [
       "(array([ 0,  1,  2,  3,  4,  6,  7,  9, 10, 11, 12, 13, 15, 16],\n",
       "       dtype=int64),)"
      ]
     },
     "execution_count": 48,
     "metadata": {},
     "output_type": "execute_result"
    }
   ],
   "source": [
    "np.nonzero(pca_lassoreg.coef_)"
   ]
  },
  {
   "cell_type": "code",
   "execution_count": 49,
   "metadata": {},
   "outputs": [
    {
     "name": "stdout",
     "output_type": "stream",
     "text": [
      "PCA Lasso MSE: 117.28\n"
     ]
    }
   ],
   "source": [
    "pca_lassoreg_pred = pca_lassoreg.predict(X1_test_pca)\n",
    "print('PCA Lasso MSE: %.2f' %mean_squared_error(y1_test, pca_lassoreg_pred)) "
   ]
  },
  {
   "cell_type": "code",
   "execution_count": 52,
   "metadata": {},
   "outputs": [
    {
     "data": {
      "text/plain": [
       "<bound method RegressorMixin.score of Lasso(alpha=1.0, copy_X=True, fit_intercept=True, max_iter=1000,\n",
       "      normalize=False, positive=False, precompute=False, random_state=None,\n",
       "      selection='cyclic', tol=0.0001, warm_start=False)>"
      ]
     },
     "execution_count": 52,
     "metadata": {},
     "output_type": "execute_result"
    }
   ],
   "source": [
    "pca_lassoreg.score"
   ]
  },
  {
   "cell_type": "code",
   "execution_count": 53,
   "metadata": {},
   "outputs": [
    {
     "data": {
      "text/plain": [
       "0.36722560057545806"
      ]
     },
     "execution_count": 53,
     "metadata": {},
     "output_type": "execute_result"
    }
   ],
   "source": [
    "from sklearn.metrics import r2_score\n",
    "\n",
    "pca_lasso_r2 = r2_score(y1_test, pca_lassoreg_pred)\n",
    "pca_lasso_r2"
   ]
  },
  {
   "cell_type": "code",
   "execution_count": 54,
   "metadata": {},
   "outputs": [
    {
     "name": "stdout",
     "output_type": "stream",
     "text": [
      "0.3403577233664088\n"
     ]
    }
   ],
   "source": [
    "print(r2_score(y1_test, rfreg_pca_pred))"
   ]
  },
  {
   "cell_type": "code",
   "execution_count": 55,
   "metadata": {},
   "outputs": [
    {
     "name": "stdout",
     "output_type": "stream",
     "text": [
      "0.4086899366318274\n"
     ]
    }
   ],
   "source": [
    "print(r2_score(y1_test, linreg_pca_pred))"
   ]
  },
  {
   "cell_type": "code",
   "execution_count": 24,
   "metadata": {},
   "outputs": [
    {
     "ename": "AttributeError",
     "evalue": "'function' object has no attribute 'summary'",
     "output_type": "error",
     "traceback": [
      "\u001b[1;31m---------------------------------------------------------------------------\u001b[0m",
      "\u001b[1;31mAttributeError\u001b[0m                            Traceback (most recent call last)",
      "\u001b[1;32m<ipython-input-24-3b8489e74a64>\u001b[0m in \u001b[0;36m<module>\u001b[1;34m\u001b[0m\n\u001b[0;32m      2\u001b[0m \u001b[0mx\u001b[0m\u001b[1;33m=\u001b[0m\u001b[0msm\u001b[0m\u001b[1;33m.\u001b[0m\u001b[0madd_constant\u001b[0m\u001b[1;33m(\u001b[0m\u001b[0mX_train\u001b[0m\u001b[1;33m)\u001b[0m\u001b[1;33m\u001b[0m\u001b[1;33m\u001b[0m\u001b[0m\n\u001b[0;32m      3\u001b[0m \u001b[0mmodel\u001b[0m \u001b[1;33m=\u001b[0m \u001b[0msm\u001b[0m\u001b[1;33m.\u001b[0m\u001b[0mOLS\u001b[0m\u001b[1;33m(\u001b[0m\u001b[0my_train\u001b[0m\u001b[1;33m,\u001b[0m\u001b[0mx\u001b[0m\u001b[1;33m)\u001b[0m\u001b[1;33m.\u001b[0m\u001b[0mfit\u001b[0m\u001b[1;33m\u001b[0m\u001b[1;33m\u001b[0m\u001b[0m\n\u001b[1;32m----> 4\u001b[1;33m \u001b[0mmodel\u001b[0m\u001b[1;33m.\u001b[0m\u001b[0msummary\u001b[0m\u001b[1;33m(\u001b[0m\u001b[1;33m)\u001b[0m\u001b[1;33m\u001b[0m\u001b[1;33m\u001b[0m\u001b[0m\n\u001b[0m",
      "\u001b[1;31mAttributeError\u001b[0m: 'function' object has no attribute 'summary'"
     ]
    }
   ],
   "source": [
    "import statsmodels.api as sm\n",
    "x=sm.add_constant(X_train)\n",
    "model = sm.OLS(y_train,x).fit\n",
    "model.summary()"
   ]
  }
 ],
 "metadata": {
  "kernelspec": {
   "display_name": "Python 3",
   "language": "python",
   "name": "python3"
  },
  "language_info": {
   "codemirror_mode": {
    "name": "ipython",
    "version": 3
   },
   "file_extension": ".py",
   "mimetype": "text/x-python",
   "name": "python",
   "nbconvert_exporter": "python",
   "pygments_lexer": "ipython3",
   "version": "3.7.4"
  }
 },
 "nbformat": 4,
 "nbformat_minor": 2
}
